{
 "cells": [
  {
   "cell_type": "code",
   "execution_count": 1,
   "metadata": {
    "collapsed": true
   },
   "outputs": [],
   "source": [
    "# story line and poster image are from imdb"
   ]
  },
  {
   "cell_type": "code",
   "execution_count": 2,
   "metadata": {
    "collapsed": false
   },
   "outputs": [],
   "source": [
    "import media, fresh_tomatoes\n"
   ]
  },
  {
   "cell_type": "code",
   "execution_count": 3,
   "metadata": {
    "collapsed": false
   },
   "outputs": [
    {
     "name": "stdout",
     "output_type": "stream",
     "text": [
      "Avatar\n"
     ]
    }
   ],
   "source": [
    "avatar= media.Movie(\"Avatar\", \n",
    "                    \"Alien Planet\", \\\n",
    "                    \"https://images-na.ssl-images-amazon.com/images/M/MV5BMTYwOTEwNjAzMl5BMl5BanBnXkFtZTcwODc5MTUwMw@@._V1_UX182_CR0,0,182,268_AL_.jpg\",\\\n",
    "                    \"https://www.youtube.com/watch?v=5PSNL1qE6VY\"\n",
    "                    \n",
    "                   )\n",
    "\n",
    "print (avatar.title)\n",
    "#avatar.show_trailer()"
   ]
  },
  {
   "cell_type": "code",
   "execution_count": 4,
   "metadata": {
    "collapsed": false
   },
   "outputs": [
    {
     "name": "stdout",
     "output_type": "stream",
     "text": [
      "Coherence\n",
      "On the night of an astronomical anomaly, eight friends at a dinner party experience a troubling chain of reality bending events. \n"
     ]
    }
   ],
   "source": [
    "coherence= media.Movie(\"Coherence\",\\\n",
    "                       \"On the night of an astronomical anomaly, eight friends at a dinner party experience a troubling chain of reality bending events. \",\\\n",
    "                      \"https://images-na.ssl-images-amazon.com/images/M/MV5BNzQ3ODUzNDY2M15BMl5BanBnXkFtZTgwNzg0ODY2MTE@._V1_UX182_CR0,0,182,268_AL_.jpg\",\\\n",
    "                      \"https://www.youtube.com/watch?v=sEceDz1Rodc\"\n",
    "                       \n",
    "                      )\n",
    "print(coherence.show_info())\n"
   ]
  },
  {
   "cell_type": "code",
   "execution_count": 5,
   "metadata": {
    "collapsed": false
   },
   "outputs": [
    {
     "name": "stdout",
     "output_type": "stream",
     "text": [
      "Predestination\n",
      "PREDESTINATION chronicles the life of a Temporal Agent sent on an intricate series of time-travel journeys designed to ensure the continuation of his law enforcement career for all eternity. Now, on his final assignment, the Agent must pursue the one criminal that has eluded him throughout time. \n"
     ]
    }
   ],
   "source": [
    "predestination= media.Movie(\"Predestination\",\n",
    "                           \"PREDESTINATION chronicles the life of a Temporal Agent sent on an intricate series of time-travel journeys designed to ensure the continuation of his law enforcement career for all eternity. Now, on his final assignment, the Agent must pursue the one criminal that has eluded him throughout time. \",\n",
    "                           \"https://images-na.ssl-images-amazon.com/images/M/MV5BMTAzODc3NjU1NzNeQTJeQWpwZ15BbWU4MDk5NTQ4NTMx._V1_UX182_CR0,0,182,268_AL_.jpg\",\n",
    "                           \"https://www.youtube.com/watch?v=-FcK_UiVV40\"\n",
    "                            \n",
    "                           )\n",
    "print (predestination.show_info())"
   ]
  },
  {
   "cell_type": "code",
   "execution_count": 6,
   "metadata": {
    "collapsed": false
   },
   "outputs": [],
   "source": [
    "breaking_bad=media.TVShow(\"Breaking Bad\",\n",
    "                         \"When chemistry teacher Walter White is diagnosed with Stage III cancer and given only two years to live, he decides he has nothing to lose. He lives with his teenage son, who has cerebral palsy, and his wife, in New Mexico. Determined to ensure that his family will have a secure future, Walt embarks on a career of drugs and crime. He proves to be remarkably proficient in this new world as he begins manufacturing and selling methamphetamine with one of his former students. The series tracks the impacts of a fatal diagnosis on a regular, hard working man, and explores how a fatal diagnosis affects his morality and transforms him into a major player of the drug trade. \",\n",
    "                         \"https://images-na.ssl-images-amazon.com/images/M/MV5BMTQ0ODYzODc0OV5BMl5BanBnXkFtZTgwMDk3OTcyMDE@._V1_UX182_CR0,0,182,268_AL_.jpg\",\n",
    "                         \"https://www.youtube.com/watch?v=HhesaQXLuRY\",\n",
    "                          1,\n",
    "                          1,\n",
    "                          \"AMC\",\n",
    "                          True\n",
    "                         )"
   ]
  },
  {
   "cell_type": "code",
   "execution_count": 7,
   "metadata": {
    "collapsed": true
   },
   "outputs": [],
   "source": [
    "sherlock=media.TVShow(\"Sherlock\",\n",
    "                     \" In this modernized version of the Conan Doyle characters, using his detective plots, Sherlock Holmes lives in early 21st century London and acts more cocky towards Scotland Yard's detective inspector Lestrade because he's actually less confident. Doctor Watson is now a fairly young veteran of the Afghan war, less adoring and more active.\",\n",
    "                     \"https://images-na.ssl-images-amazon.com/images/M/MV5BNTA2MTE1NDI5OV5BMl5BanBnXkFtZTcwNzM2MzU3Nw@@._V1_UY268_CR17,0,182,268_AL_.jpg\",\n",
    "                     \"https://www.youtube.com/watch?v=qlcWFoNqZHc\",\n",
    "                     1,\n",
    "                     1,\n",
    "                     \"BBC\",\n",
    "                     False)"
   ]
  },
  {
   "cell_type": "code",
   "execution_count": 8,
   "metadata": {
    "collapsed": true
   },
   "outputs": [],
   "source": [
    "game=media.TVShow(\"Game of throne\",\n",
    "                 \"RR Matin's Story\",\n",
    "                 \"https://images-na.ssl-images-amazon.com/images/M/MV5BMjM5OTQ1MTY5Nl5BMl5BanBnXkFtZTgwMjM3NzMxODE@._V1_UY190_CR0,0,128,190_AL_.jpg\",\n",
    "                 \"https://www.youtube.com/watch?v=EI0ib1NErqg\",\n",
    "                 6,\n",
    "                 1,\n",
    "                 \"HBO\",\n",
    "                 False)"
   ]
  },
  {
   "cell_type": "code",
   "execution_count": 9,
   "metadata": {
    "collapsed": false
   },
   "outputs": [],
   "source": [
    "movies=[avatar, coherence, predestination]\n",
    "tvshows=[breaking_bad, sherlock, game]\n"
   ]
  },
  {
   "cell_type": "code",
   "execution_count": 10,
   "metadata": {
    "collapsed": true
   },
   "outputs": [],
   "source": [
    "\n",
    "fresh_tomatoes.open_movies_page(movies+tvshows)"
   ]
  },
  {
   "cell_type": "code",
   "execution_count": null,
   "metadata": {
    "collapsed": false
   },
   "outputs": [],
   "source": []
  }
 ],
 "metadata": {
  "kernelspec": {
   "display_name": "Python 2",
   "language": "python",
   "name": "python2"
  },
  "language_info": {
   "codemirror_mode": {
    "name": "ipython",
    "version": 2
   },
   "file_extension": ".py",
   "mimetype": "text/x-python",
   "name": "python",
   "nbconvert_exporter": "python",
   "pygments_lexer": "ipython2",
   "version": "2.7.12"
  }
 },
 "nbformat": 4,
 "nbformat_minor": 1
}
